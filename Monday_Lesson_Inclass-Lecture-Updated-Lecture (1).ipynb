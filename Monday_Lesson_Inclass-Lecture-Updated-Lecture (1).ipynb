{
 "cells": [
  {
   "cell_type": "markdown",
   "metadata": {},
   "source": [
    "# Week 2 - Monday Lesson (variable assignment, loops, lists)"
   ]
  },
  {
   "cell_type": "markdown",
   "metadata": {},
   "source": [
    "## Tasks Today:\n",
    "\n",
    "1) Int & Float assignments <br>\n",
    " &nbsp;&nbsp;&nbsp;&nbsp; a) Assigning int <br>\n",
    " &nbsp;&nbsp;&nbsp;&nbsp; b) Assigning float <br>\n",
    " &nbsp;&nbsp;&nbsp;&nbsp; c) Performing Calculations on ints and floats <br>\n",
    " &nbsp;&nbsp;&nbsp;&nbsp;&nbsp;&nbsp;&nbsp;&nbsp; - Addition <br>\n",
    " &nbsp;&nbsp;&nbsp;&nbsp;&nbsp;&nbsp;&nbsp;&nbsp; - Subtraction <br>\n",
    " &nbsp;&nbsp;&nbsp;&nbsp;&nbsp;&nbsp;&nbsp;&nbsp; - Multiplication <br>\n",
    " &nbsp;&nbsp;&nbsp;&nbsp;&nbsp;&nbsp;&nbsp;&nbsp; - Division <br>\n",
    " &nbsp;&nbsp;&nbsp;&nbsp;&nbsp;&nbsp;&nbsp;&nbsp; - Floor Division <br>\n",
    " &nbsp;&nbsp;&nbsp;&nbsp;&nbsp;&nbsp;&nbsp;&nbsp; - Modulo <br>\n",
    " &nbsp;&nbsp;&nbsp;&nbsp;&nbsp;&nbsp;&nbsp;&nbsp; - Exponential <br>\n",
    "2) String Input-Output <br>\n",
    " &nbsp;&nbsp;&nbsp;&nbsp; a) String Assignment <br>\n",
    " &nbsp;&nbsp;&nbsp;&nbsp; b) print() <br>\n",
    " &nbsp;&nbsp;&nbsp;&nbsp; c) String Concatenation <br>\n",
    " &nbsp;&nbsp;&nbsp;&nbsp; d) Type Conversion <br>\n",
    " &nbsp;&nbsp;&nbsp;&nbsp; e) input() <br>\n",
    " &nbsp;&nbsp;&nbsp;&nbsp; f) format() <br>\n",
    " &nbsp;&nbsp;&nbsp;&nbsp; g) Old Way (python 2) <br>\n",
    "3) <b>In-Class Exercise #1</b> <br>\n",
    "4) If Statements <br>\n",
    " &nbsp;&nbsp;&nbsp;&nbsp; a) 'is' keyword <br>\n",
    " &nbsp;&nbsp;&nbsp;&nbsp; b) 'in' keyword <br>\n",
    " &nbsp;&nbsp;&nbsp;&nbsp; c) 'not in' keyword <br>\n",
    "5) <b>In-Class Exercise #2</b> <br>\n",
    "6) Elif Statements <br>\n",
    "7) Else Statements <br>\n",
    "8) <b>In-Class Exercise #3</b> <br>\n",
    "9) For Loops <br>\n",
    " &nbsp;&nbsp;&nbsp;&nbsp; a) Using 'in' keyword <br>\n",
    " &nbsp;&nbsp;&nbsp;&nbsp; b) Continue Statement <br>\n",
    " &nbsp;&nbsp;&nbsp;&nbsp; c) Break Statement <br>\n",
    " &nbsp;&nbsp;&nbsp;&nbsp; d) Pass Statement <br>\n",
    " &nbsp;&nbsp;&nbsp;&nbsp; e) Double For Loops <br>\n",
    "10) While Loops <br>\n",
    " &nbsp;&nbsp;&nbsp;&nbsp; a) Looping 'While True' <br>\n",
    " &nbsp;&nbsp;&nbsp;&nbsp; b) While and For Loops Used Together <br>\n",
    "11) Built-In Functions <br>\n",
    " &nbsp;&nbsp;&nbsp;&nbsp; a) range() <br>\n",
    " &nbsp;&nbsp;&nbsp;&nbsp; b) len() <br>\n",
    " &nbsp;&nbsp;&nbsp;&nbsp; c) help() <br>\n",
    " &nbsp;&nbsp;&nbsp;&nbsp; d) isinstance() <br>\n",
    " &nbsp;&nbsp;&nbsp;&nbsp; e) abs() <br>\n",
    "12) Try and Except <br>\n",
    "13) Lists <br>\n",
    " &nbsp;&nbsp;&nbsp;&nbsp; a) Declaring Lists <br>\n",
    " &nbsp;&nbsp;&nbsp;&nbsp; b) Indexing a List <br>\n",
    " &nbsp;&nbsp;&nbsp;&nbsp; c) .append() <br>\n",
    " &nbsp;&nbsp;&nbsp;&nbsp; d) .insert() <br>\n",
    " &nbsp;&nbsp;&nbsp;&nbsp; e) .pop() <br>\n",
    " &nbsp;&nbsp;&nbsp;&nbsp; f) .remove() <br>\n",
    " &nbsp;&nbsp;&nbsp;&nbsp; g) del() <br>\n",
    " &nbsp;&nbsp;&nbsp;&nbsp; h) Concatenating Two Lists <br>\n",
    " &nbsp;&nbsp;&nbsp;&nbsp; i) Lists Within Lists <br>\n",
    " &nbsp;&nbsp;&nbsp;&nbsp; j) Looping Through Lists <br>"
   ]
  },
  {
   "cell_type": "markdown",
   "metadata": {},
   "source": [
    "### Int & Float Assignments"
   ]
  },
  {
   "cell_type": "markdown",
   "metadata": {},
   "source": [
    "##### Assigning int"
   ]
  },
  {
   "cell_type": "code",
   "execution_count": 2,
   "metadata": {},
   "outputs": [
    {
     "name": "stdout",
     "output_type": "stream",
     "text": [
      "23\n",
      "456\n"
     ]
    }
   ],
   "source": [
    "my_variable  = 23\n",
    "print(my_variable)\n",
    "my_other_var = 456\n",
    "print(my_other_var)"
   ]
  },
  {
   "cell_type": "markdown",
   "metadata": {},
   "source": [
    "##### Assinging float"
   ]
  },
  {
   "cell_type": "code",
   "execution_count": 3,
   "metadata": {},
   "outputs": [
    {
     "data": {
      "text/plain": [
       "float"
      ]
     },
     "execution_count": 3,
     "metadata": {},
     "output_type": "execute_result"
    }
   ],
   "source": [
    "my_new_var =323. \n",
    "type(my_new_var)\n",
    "#any number with a decimal REGARDLESS of any value after the decimal will still be onsidered a float."
   ]
  },
  {
   "cell_type": "markdown",
   "metadata": {},
   "source": [
    "#### Performing Calculations on ints and floats"
   ]
  },
  {
   "cell_type": "markdown",
   "metadata": {},
   "source": [
    "##### Addition"
   ]
  },
  {
   "cell_type": "code",
   "execution_count": 8,
   "metadata": {},
   "outputs": [
    {
     "name": "stdout",
     "output_type": "stream",
     "text": [
      "7.7\n",
      "<class 'float'>\n",
      "12.7\n"
     ]
    }
   ],
   "source": [
    "num1= 2\n",
    "num2 = 5.7\n",
    "result = num1 + num2\n",
    "print(result)\n",
    "print(type(result))\n",
    "\n",
    "result += 5\n",
    "print(result)"
   ]
  },
  {
   "cell_type": "markdown",
   "metadata": {},
   "source": [
    "##### Subtraction"
   ]
  },
  {
   "cell_type": "code",
   "execution_count": 9,
   "metadata": {},
   "outputs": [
    {
     "name": "stdout",
     "output_type": "stream",
     "text": [
      "3.7\n",
      "9.7\n"
     ]
    }
   ],
   "source": [
    "result_diff =num2-num1\n",
    "print(result_diff)\n",
    "\n",
    "result_diff -= 3\n",
    "\n",
    "print(result)"
   ]
  },
  {
   "cell_type": "markdown",
   "metadata": {},
   "source": []
  },
  {
   "cell_type": "markdown",
   "metadata": {},
   "source": [
    "##### Multiplication"
   ]
  },
  {
   "cell_type": "code",
   "execution_count": 15,
   "metadata": {},
   "outputs": [
    {
     "name": "stdout",
     "output_type": "stream",
     "text": [
      "50\n",
      "150\n"
     ]
    }
   ],
   "source": [
    "num3= 5\n",
    "num4= 10\n",
    "\n",
    "result_mult  = num3 * num4\n",
    "print(result_mult)\n",
    "\n",
    "result_mult *= 3\n",
    "print(result_mult)"
   ]
  },
  {
   "cell_type": "markdown",
   "metadata": {},
   "source": [
    "##### Division"
   ]
  },
  {
   "cell_type": "code",
   "execution_count": 18,
   "metadata": {},
   "outputs": [
    {
     "name": "stdout",
     "output_type": "stream",
     "text": [
      "2.0\n",
      "1.0\n"
     ]
    }
   ],
   "source": [
    "result_div = num4/num3\n",
    "print(result_div)\n",
    "\n",
    "result_div /= 2\n",
    "print(result_div)"
   ]
  },
  {
   "cell_type": "markdown",
   "metadata": {},
   "source": [
    "##### Floor Division"
   ]
  },
  {
   "cell_type": "code",
   "execution_count": 21,
   "metadata": {},
   "outputs": [
    {
     "name": "stdout",
     "output_type": "stream",
     "text": [
      "2.5\n",
      "2\n"
     ]
    }
   ],
   "source": [
    "#standard divison\n",
    "result_div = 5/2\n",
    "print(result_div)\n",
    "\n",
    "#division which only includes base number\n",
    "#rounds down\n",
    "#no decimal\n",
    "result_floor = 5//2\n",
    "print(result_floor)"
   ]
  },
  {
   "cell_type": "markdown",
   "metadata": {},
   "source": [
    "##### Modulo"
   ]
  },
  {
   "cell_type": "code",
   "execution_count": 22,
   "metadata": {},
   "outputs": [
    {
     "name": "stdout",
     "output_type": "stream",
     "text": [
      "1\n"
     ]
    }
   ],
   "source": [
    "#remainder after division\n",
    "#5/2 = 2.1\n",
    "#modulo= 1\n",
    "result_mod = 5%2\n",
    "print(result_mod)\n"
   ]
  },
  {
   "cell_type": "code",
   "execution_count": 25,
   "metadata": {},
   "outputs": [
    {
     "name": "stdout",
     "output_type": "stream",
     "text": [
      "7\n"
     ]
    }
   ],
   "source": [
    "#67 days I assume all months have 30 days... how many extra days do I have wth 67 days \n",
    "result_mod = 67%30\n",
    "print(result_mod)"
   ]
  },
  {
   "cell_type": "code",
   "execution_count": 29,
   "metadata": {},
   "outputs": [
    {
     "name": "stdout",
     "output_type": "stream",
     "text": [
      "box is red\n"
     ]
    }
   ],
   "source": [
    "if 15%3 == 0:\n",
    "    print(\"box is red\")\n"
   ]
  },
  {
   "cell_type": "code",
   "execution_count": 30,
   "metadata": {},
   "outputs": [
    {
     "name": "stdout",
     "output_type": "stream",
     "text": [
      "5\n",
      "30\n"
     ]
    }
   ],
   "source": [
    "amount_of_seconds =330\n",
    "no_of_minutes =amount_of_seconds // 60\n",
    "print(no_of_minutes)\n",
    "seconds = amount_of_seconds % 60\n",
    "print(seconds)"
   ]
  },
  {
   "cell_type": "markdown",
   "metadata": {},
   "source": [
    "##### Exponential"
   ]
  },
  {
   "cell_type": "code",
   "execution_count": null,
   "metadata": {},
   "outputs": [],
   "source": [
    "square = 5**2\n",
    "print(square)\n",
    "\n",
    "x= 5\n",
    "x **=2\n",
    "print(x)"
   ]
  },
  {
   "cell_type": "markdown",
   "metadata": {},
   "source": [
    "### String Input-Output"
   ]
  },
  {
   "cell_type": "markdown",
   "metadata": {},
   "source": [
    "##### String Assignment"
   ]
  },
  {
   "cell_type": "code",
   "execution_count": 46,
   "metadata": {},
   "outputs": [
    {
     "name": "stdout",
     "output_type": "stream",
     "text": [
      "Marcus\n",
      "Marcus\n",
      "Welcome to class Y'all\n",
      "Welcome to class Y'all\n",
      "he said \"Hello Class\"\n",
      "he said \"Hello Class\" \n",
      "\t Welcome to our Class \n",
      " This is intro to Python\n",
      " I hope you have fun!\n",
      "\n",
      "        hey \n",
      "look at \"this\" \n",
      "        wild \n",
      "    string that is \n",
      "lot of lines \n",
      "\n"
     ]
    }
   ],
   "source": [
    "\n",
    "\n",
    "name = \"Marcus\"\n",
    "print(name)\n",
    "\n",
    "name= 'Marcus'\n",
    "print(name)\n",
    "\n",
    "greeting = \"Welcome to class Y'all\"\n",
    "print(greeting)\n",
    "\n",
    "#using the dash (\\) in this code line is called using an escape sequence\n",
    "greeting = 'Welcome to class Y\\'all'\n",
    "print(greeting)\n",
    "\n",
    "convo = 'he said \"Hello Class\"'\n",
    "print(convo)\n",
    "\n",
    "#incorporating another escape sequence\n",
    "convo = \"he said \\\"Hello Class\\\" \"\n",
    "print(convo)\n",
    "\n",
    "paragraph =\"\\t Welcome to our Class \\n This is intro to Python\\n I hope you have fun!\"\n",
    "print(paragraph)\n",
    "\n",
    "multiline=\"\"\"\n",
    "        hey \n",
    "look at \"this\" \n",
    "        wild \n",
    "    string that is \n",
    "lot of lines \n",
    "\"\"\"\n",
    "print(multiline)"
   ]
  },
  {
   "cell_type": "markdown",
   "metadata": {},
   "source": [
    "##### print() <br>\n",
    "<p>Don't forget about end=' '</p>"
   ]
  },
  {
   "cell_type": "code",
   "execution_count": 53,
   "metadata": {},
   "outputs": [
    {
     "name": "stdout",
     "output_type": "stream",
     "text": [
      "apple * orange * strawberry * grape * banana&&&&apple orange strawberry grape banana\n"
     ]
    }
   ],
   "source": [
    "word1 =\"apple\" \n",
    "word2 =\"orange\" \n",
    "word3 =\"strawberry\" \n",
    "word4 =\"grape\" \n",
    "#sep = seperator \n",
    "#end value is default \\n (print next line on a new line)\n",
    "#adding value to end as &&& prints both lines of code on same line\n",
    "print(word1, word2, word3, word4, \"banana\", sep = \" * \", end =\"&&&&\" )\n",
    "print(word1, word2, word3, word4, \"banana\")"
   ]
  },
  {
   "cell_type": "code",
   "execution_count": 52,
   "metadata": {},
   "outputs": [
    {
     "name": "stdout",
     "output_type": "stream",
     "text": [
      "Hello\n",
      "None\n"
     ]
    }
   ],
   "source": [
    "print(print(\"Hello\"))"
   ]
  },
  {
   "cell_type": "markdown",
   "metadata": {},
   "source": [
    "##### String Concatenation"
   ]
  },
  {
   "cell_type": "code",
   "execution_count": 67,
   "metadata": {},
   "outputs": [
    {
     "name": "stdout",
     "output_type": "stream",
     "text": [
      "TonyCampos\n",
      "Tony Campos\n",
      "Tony Campos is a great student\n"
     ]
    },
    {
     "data": {
      "text/plain": [
       "'Campos'"
      ]
     },
     "execution_count": 67,
     "metadata": {},
     "output_type": "execute_result"
    }
   ],
   "source": [
    "#standard code\n",
    "first_name = \"Tony\"\n",
    "last_name = \"Campos\"\n",
    "full_name = first_name + last_name\n",
    "print(full_name)\n",
    "#adding a space using \" \"\n",
    "full_name = first_name + \" \"+ last_name\n",
    "print(full_name)\n",
    "#adding more code to the sentence\n",
    "full_name += \" is a great student\"\n",
    "print(full_name)\n",
    "\n",
    "last_name [0:4]\n",
    "\n",
    "last_name[::1]. title()\n",
    "\n",
    "#last_name[::2].title()\n",
    "# = Cmo\n",
    "\n",
    "#last_name[::-2].title()\n",
    "#= Spa\n"
   ]
  },
  {
   "cell_type": "markdown",
   "metadata": {},
   "source": [
    "##### Type Conversion"
   ]
  },
  {
   "cell_type": "code",
   "execution_count": 71,
   "metadata": {},
   "outputs": [
    {
     "name": "stdout",
     "output_type": "stream",
     "text": [
      "34\n",
      "7\n"
     ]
    }
   ],
   "source": [
    "num1 = 3\n",
    "num2 = \"4\"\n",
    "#str used for integer of 3 in this line\n",
    "#not the actual integer\n",
    "print(str(num1)+ num2)\n",
    "\n",
    "#int used here to use integer value of 4\n",
    "#not the string of 4\n",
    "print(num1 +int(num2) )\n",
    "\n",
    "type(num2)\n",
    "\n",
    "int()\n",
    "str()\n",
    "list()\n",
    "dict()\n",
    "tuple()\n",
    "set()\n",
    "float()\n",
    "\n",
    "int(\"Steve\")"
   ]
  },
  {
   "cell_type": "markdown",
   "metadata": {},
   "source": [
    "##### input()"
   ]
  },
  {
   "cell_type": "code",
   "execution_count": 75,
   "metadata": {},
   "outputs": [
    {
     "name": "stdout",
     "output_type": "stream",
     "text": [
      "\n",
      "<class 'str'>\n"
     ]
    }
   ],
   "source": [
    "#getting info from command line\n",
    "#input ALWAYS returns string/not integer\n",
    "age = input(\"What is your age\")\n",
    "print(age)\n",
    "print(type(age) )"
   ]
  },
  {
   "cell_type": "code",
   "execution_count": 78,
   "metadata": {},
   "outputs": [
    {
     "name": "stdout",
     "output_type": "stream",
     "text": [
      "You moron age is made with numbers!\n",
      "You moron age is made with numbers!\n",
      "You moron age is made with numbers!\n",
      "You moron age is made with numbers!\n",
      "You moron age is made with numbers!\n",
      "You moron age is made with numbers!\n",
      "You moron age is made with numbers!\n",
      "You moron age is made with numbers!\n",
      "You moron age is made with numbers!\n",
      "You moron age is made with numbers!\n",
      "In one year you will be 11 years old\n",
      "You moron age is made with numbers!\n",
      "You moron age is made with numbers!\n",
      "You moron age is made with numbers!\n",
      "You moron age is made with numbers!\n",
      "You moron age is made with numbers!\n",
      "You moron age is made with numbers!\n",
      "You moron age is made with numbers!\n",
      "You moron age is made with numbers!\n",
      "You moron age is made with numbers!\n",
      "You moron age is made with numbers!\n",
      "You moron age is made with numbers!\n",
      "You moron age is made with numbers!\n",
      "You moron age is made with numbers!\n",
      "You moron age is made with numbers!\n",
      "You moron age is made with numbers!\n",
      "You moron age is made with numbers!\n",
      "You moron age is made with numbers!\n",
      "You moron age is made with numbers!\n",
      "You moron age is made with numbers!\n",
      "You moron age is made with numbers!\n"
     ]
    }
   ],
   "source": [
    "while True: \n",
    "    age = input(\" What is your age? \")\n",
    "    if age.isdigit():\n",
    "        age = int(age)\n",
    "        print( \"In one year you will be\", age+1,\"years old\")\n",
    "    else:\n",
    "       print(\"You moron age is made with numbers!\")"
   ]
  },
  {
   "cell_type": "markdown",
   "metadata": {},
   "source": [
    "##### format()"
   ]
  },
  {
   "cell_type": "code",
   "execution_count": 7,
   "metadata": {},
   "outputs": [
    {
     "name": "stdout",
     "output_type": "stream",
     "text": [
      "You are ( ) years old and are getting wiser! \n"
     ]
    }
   ],
   "source": [
    "age = int(input(\"what is your age?\"))\n",
    "result_string = 'You are ( ) years old and are getting wiser! '. format(age)\n",
    "\n",
    "print(result_string)"
   ]
  },
  {
   "cell_type": "markdown",
   "metadata": {},
   "source": [
    "##### Old Way (python 2)"
   ]
  },
  {
   "cell_type": "code",
   "execution_count": 8,
   "metadata": {},
   "outputs": [
    {
     "name": "stdout",
     "output_type": "stream",
     "text": [
      "You are 35 years old and getting wiser\n"
     ]
    }
   ],
   "source": [
    "age = \"35\"\n",
    "result_str = 'You are %s years old and getting wiser' %age\n",
    "print(result_str)"
   ]
  },
  {
   "cell_type": "code",
   "execution_count": null,
   "metadata": {},
   "outputs": [],
   "source": []
  },
  {
   "cell_type": "markdown",
   "metadata": {},
   "source": [
    "# In-Class Exercise 1 <br>\n",
    "<p>Create a format statement that asks for color, year, make, model and prints out the results</p>"
   ]
  },
  {
   "cell_type": "code",
   "execution_count": 8,
   "metadata": {},
   "outputs": [
    {
     "name": "stdout",
     "output_type": "stream",
     "text": [
      "You have a blue 2022 honda civic\n"
     ]
    }
   ],
   "source": [
    "color = input(\"Enter the color, year, make, and model of your vehicle \")\n",
    "year= input(\"What year was your model made?\")\n",
    "make= input(\"What make is your car?\")\n",
    "model= input(\"What is your car model?\")\n",
    "\n",
    "\n",
    "print(f\"You have a {color} {year} {make} {model}\")\n",
    "\n"
   ]
  },
  {
   "cell_type": "markdown",
   "metadata": {},
   "source": [
    "### If Statements"
   ]
  },
  {
   "cell_type": "code",
   "execution_count": null,
   "metadata": {},
   "outputs": [],
   "source": [
    "# Available operators: Greater(>), Less(<),Equal(==)\n",
    "# Greater or Equal(>=), Less or Equal (<=)\n",
    "# One False in an AND statement = False\n",
    "#One True statement in an OR statement = True\n",
    "\n",
    "\n",
    "# Truth Tree:\n",
    "# true and False #true\n",
    "# true and False #false\n",
    "# True and False and True #false\n",
    "# True or True #true\n",
    "# True or False #true \n"
   ]
  },
  {
   "cell_type": "code",
   "execution_count": 45,
   "metadata": {},
   "outputs": [
    {
     "name": "stdout",
     "output_type": "stream",
     "text": [
      "This is false\n"
     ]
    }
   ],
   "source": [
    "test = [1,2]\n",
    "\n",
    "if True or test [3]:\n",
    "    print(\"This is false\")"
   ]
  },
  {
   "cell_type": "code",
   "execution_count": 49,
   "metadata": {},
   "outputs": [
    {
     "name": "stdout",
     "output_type": "stream",
     "text": [
      "It's something\n"
     ]
    }
   ],
   "source": [
    "my_var = 123\n",
    "\n",
    "if my_var is None:\n",
    "    print(\"It's none\")\n",
    "else:\n",
    "    print(\"It's something\")"
   ]
  },
  {
   "cell_type": "code",
   "execution_count": 50,
   "metadata": {},
   "outputs": [
    {
     "name": "stdout",
     "output_type": "stream",
     "text": [
      "List1 is equal to List2\n"
     ]
    }
   ],
   "source": [
    "list1 = [1,2,3]\n",
    "list2 = [1,2,3]\n",
    "list3 = [1,2,3]\n",
    "\n",
    "if list1 == list2:\n",
    "    print(\"List1 is equal to List2\")\n",
    "else:\n",
    "    print(\"List1 is NOT equal to List2\")"
   ]
  },
  {
   "cell_type": "code",
   "execution_count": 51,
   "metadata": {},
   "outputs": [
    {
     "name": "stdout",
     "output_type": "stream",
     "text": [
      "list1 is NOT list2\n"
     ]
    }
   ],
   "source": [
    "if list1 is list2:\n",
    "    print(\"list1 is list 2\")\n",
    "else:\n",
    "    print(\"list1 is NOT list2\")\n"
   ]
  },
  {
   "cell_type": "code",
   "execution_count": 53,
   "metadata": {},
   "outputs": [
    {
     "name": "stdout",
     "output_type": "stream",
     "text": [
      "list1 is NOT list3\n"
     ]
    }
   ],
   "source": [
    "if list1 is list3:\n",
    "    print(\"list1 is list3\")\n",
    "else:\n",
    "    print(\"list1 is NOT list3\")"
   ]
  },
  {
   "cell_type": "code",
   "execution_count": 57,
   "metadata": {},
   "outputs": [
    {
     "name": "stdout",
     "output_type": "stream",
     "text": [
      "list1 is list3\n",
      "[1, 2, 3, 99]\n",
      "[1, 2, 3, 99]\n",
      "[1, 2, 3]\n"
     ]
    }
   ],
   "source": [
    "list1 = [1,2,3]\n",
    "list2 = [1,2,3]\n",
    "list3 = list1\n",
    "if list1 is list3:\n",
    "    print(\"list1 is list3\")\n",
    "else:\n",
    "    print(\"list1 is NOT list3\")\n",
    "\n",
    "list3.append(99)\n",
    "print(list3)\n",
    "print(list1)\n",
    "print(list2)"
   ]
  },
  {
   "cell_type": "code",
   "execution_count": 38,
   "metadata": {},
   "outputs": [
    {
     "data": {
      "text/plain": [
       "True"
      ]
     },
     "execution_count": 38,
     "metadata": {},
     "output_type": "execute_result"
    }
   ],
   "source": [
    "5 == 5\n",
    "\n",
    "bool(5 ==5 )\n"
   ]
  },
  {
   "cell_type": "code",
   "execution_count": 13,
   "metadata": {},
   "outputs": [
    {
     "data": {
      "text/plain": [
       "False"
      ]
     },
     "execution_count": 13,
     "metadata": {},
     "output_type": "execute_result"
    }
   ],
   "source": [
    "bool('hello')\n",
    "\n",
    "#empty strings return false result\n",
    "bool('')\n",
    "bool(0)"
   ]
  },
  {
   "cell_type": "code",
   "execution_count": 18,
   "metadata": {},
   "outputs": [
    {
     "data": {
      "text/plain": [
       "True"
      ]
     },
     "execution_count": 18,
     "metadata": {},
     "output_type": "execute_result"
    }
   ],
   "source": [
    "bool (1)\n",
    "bool(-99)\n",
    "bool(99)"
   ]
  },
  {
   "cell_type": "code",
   "execution_count": 22,
   "metadata": {},
   "outputs": [
    {
     "data": {
      "text/plain": [
       "True"
      ]
     },
     "execution_count": 22,
     "metadata": {},
     "output_type": "execute_result"
    }
   ],
   "source": [
    " 5<2 #false\n",
    " 5<5    #false\n",
    " 5 <=5 #true(<= less than or equal to )\n",
    " 5 == 5 #true\n",
    " 7 >= 5 #true (>= greater or equal to)\n",
    " 4!= 5 #true (!= means does not equal)\n"
   ]
  },
  {
   "cell_type": "code",
   "execution_count": null,
   "metadata": {},
   "outputs": [],
   "source": [
    "#   Even letters have numerical values!!"
   ]
  },
  {
   "cell_type": "code",
   "execution_count": 28,
   "metadata": {},
   "outputs": [
    {
     "data": {
      "text/plain": [
       "'X'"
      ]
     },
     "execution_count": 28,
     "metadata": {},
     "output_type": "execute_result"
    }
   ],
   "source": [
    "#chr(num) used to find the letter that corresponds to the number\n",
    "chr(66) #B\n",
    "chr(88) #X"
   ]
  },
  {
   "cell_type": "code",
   "execution_count": 25,
   "metadata": {},
   "outputs": [
    {
     "data": {
      "text/plain": [
       "65"
      ]
     },
     "execution_count": 25,
     "metadata": {},
     "output_type": "execute_result"
    }
   ],
   "source": [
    "ord(\"A\") #value of 65"
   ]
  },
  {
   "cell_type": "code",
   "execution_count": 26,
   "metadata": {},
   "outputs": [
    {
     "data": {
      "text/plain": [
       "97"
      ]
     },
     "execution_count": 26,
     "metadata": {},
     "output_type": "execute_result"
    }
   ],
   "source": [
    "ord(\"a\") #value of 97"
   ]
  },
  {
   "cell_type": "code",
   "execution_count": 24,
   "metadata": {},
   "outputs": [
    {
     "data": {
      "text/plain": [
       "True"
      ]
     },
     "execution_count": 24,
     "metadata": {},
     "output_type": "execute_result"
    }
   ],
   "source": [
    "\"A\">\"a\" #false\n",
    "\"a\">\"A\" #true"
   ]
  },
  {
   "cell_type": "code",
   "execution_count": 31,
   "metadata": {},
   "outputs": [
    {
     "name": "stdout",
     "output_type": "stream",
     "text": [
      "Not equal\n"
     ]
    }
   ],
   "source": [
    "num1 = 5\n",
    "num2 = 10\n",
    "\n",
    "print(\"Not equal\")\n",
    "if num1 == num2:\n",
    "    print(\"Equal\")\n"
   ]
  },
  {
   "cell_type": "code",
   "execution_count": 30,
   "metadata": {},
   "outputs": [
    {
     "name": "stdout",
     "output_type": "stream",
     "text": [
      "Start of stuff\n",
      "Equal\n"
     ]
    }
   ],
   "source": [
    "num1 = 10\n",
    "num2 = 10\n",
    "\n",
    "print(\"Start of stuff\")\n",
    "if num1 == num2:\n",
    "    print(\"Equal\")\n",
    "    "
   ]
  },
  {
   "cell_type": "code",
   "execution_count": 32,
   "metadata": {},
   "outputs": [
    {
     "name": "stdout",
     "output_type": "stream",
     "text": [
      "Not equal\n",
      "num2 is bigger\n"
     ]
    }
   ],
   "source": [
    "num1 = 5\n",
    "num2 = 10\n",
    "\n",
    "print(\"Not equal\")\n",
    "if num1 == num2:\n",
    "    print(\"Equal\")\n",
    "elif num1 < num2:\n",
    "    print(\"num2 is bigger\")\n",
    "else:\n",
    "    print(\"num1 is bigger\")"
   ]
  },
  {
   "cell_type": "code",
   "execution_count": 34,
   "metadata": {},
   "outputs": [
    {
     "name": "stdout",
     "output_type": "stream",
     "text": [
      "33\n"
     ]
    }
   ],
   "source": [
    "#inline if statements ... one line if statements \n",
    "#TERNARY operator\n",
    "\n",
    "name = \"John\"\n",
    "\n",
    "#if your name is john your age has to be 33... if oyur name is not john your age is 99\n",
    "\n",
    "age = 33 if name == \"John\" else 99\n",
    "print(age)"
   ]
  },
  {
   "cell_type": "code",
   "execution_count": 37,
   "metadata": {},
   "outputs": [
    {
     "name": "stdout",
     "output_type": "stream",
     "text": [
      "99\n",
      "77\n"
     ]
    }
   ],
   "source": [
    "#name = \"John\"\n",
    "name = \"Steve\"\n",
    "\n",
    "age = 0\n",
    "if name == \"John\":\n",
    "    age = 33\n",
    "elif name == \"steve\":\n",
    "    age = 77\n",
    "else:\n",
    "     age = 99\n",
    "print(age)\n",
    "\n",
    "#vvv ternary code vvv\n",
    "\n",
    "age = 33 if name == \"John\" else 77 if name == \"Steve\" else 99\n",
    "print(age)"
   ]
  },
  {
   "cell_type": "code",
   "execution_count": null,
   "metadata": {},
   "outputs": [],
   "source": []
  },
  {
   "cell_type": "markdown",
   "metadata": {},
   "source": [
    "##### 'is' keyword"
   ]
  },
  {
   "cell_type": "code",
   "execution_count": null,
   "metadata": {
    "scrolled": true
   },
   "outputs": [],
   "source": []
  },
  {
   "cell_type": "markdown",
   "metadata": {},
   "source": [
    "##### 'in' keyword"
   ]
  },
  {
   "cell_type": "code",
   "execution_count": 59,
   "metadata": {},
   "outputs": [
    {
     "name": "stdout",
     "output_type": "stream",
     "text": [
      "The character who lost everything...!!\n"
     ]
    }
   ],
   "source": [
    "#membership Checks!!\n",
    "char_name = \"Max Payne\"\n",
    "if 'Max' in char_name:\n",
    "    print(\"The character who lost everything...!!\")\n",
    "    "
   ]
  },
  {
   "cell_type": "code",
   "execution_count": 61,
   "metadata": {},
   "outputs": [
    {
     "name": "stdout",
     "output_type": "stream",
     "text": [
      "He is a deceiver\n"
     ]
    }
   ],
   "source": [
    "classmates = [\"Tony\", \"Caleb\", \"Lizz\"]\n",
    "if 'John' in char_name:\n",
    "        print(\"Another struggler\")\n",
    "else:\n",
    "        print(\"He is a deceiver\")"
   ]
  },
  {
   "cell_type": "markdown",
   "metadata": {},
   "source": [
    "##### 'not in' keyword'"
   ]
  },
  {
   "cell_type": "code",
   "execution_count": 62,
   "metadata": {},
   "outputs": [
    {
     "name": "stdout",
     "output_type": "stream",
     "text": [
      "He is a deceiver\n"
     ]
    }
   ],
   "source": [
    "classmates = [\"Tony\", \"Caleb\", \"Lizz\"]\n",
    "if 'John' not in char_name:\n",
    "        print(\"He is a deceiver\")"
   ]
  },
  {
   "cell_type": "markdown",
   "metadata": {},
   "source": [
    "# In-Class Exercise 2 <br>\n",
    "<p>Ask user for input, check to see if the letter 'p' is in the input</p>"
   ]
  },
  {
   "cell_type": "code",
   "execution_count": 74,
   "metadata": {},
   "outputs": [
    {
     "name": "stdout",
     "output_type": "stream",
     "text": [
      "Try again, you smelly troll.\n"
     ]
    }
   ],
   "source": [
    "#if-else code\n",
    "name = input(\"Enter your name\")\n",
    "if \"p\" in name.lower():\n",
    "    print(\"Congratulations, you're a dingus!\")\n",
    "elif name.isdigit():\n",
    "    print(\"Try again, you smelly troll.\")\n",
    "else:\n",
    "    print(\"Sorry, you'll never be a dingus.\")"
   ]
  },
  {
   "cell_type": "code",
   "execution_count": 70,
   "metadata": {},
   "outputs": [
    {
     "name": "stdout",
     "output_type": "stream",
     "text": [
      "Sorry, you'll never be a dingus.\n"
     ]
    }
   ],
   "source": [
    "#ternary operator code\n",
    "print(\"Congratulations, you're a dingus!\") if \"p\" in input(\"Enter your name\").lower() else print(\"Sorry, you'll never be a dingus.\")"
   ]
  },
  {
   "cell_type": "markdown",
   "metadata": {},
   "source": [
    "## Using 'and'/'or' with If Statements"
   ]
  },
  {
   "cell_type": "code",
   "execution_count": null,
   "metadata": {},
   "outputs": [],
   "source": []
  },
  {
   "cell_type": "markdown",
   "metadata": {},
   "source": [
    "### Elif Statements"
   ]
  },
  {
   "cell_type": "code",
   "execution_count": null,
   "metadata": {},
   "outputs": [],
   "source": []
  },
  {
   "cell_type": "markdown",
   "metadata": {},
   "source": [
    "### Else Statements"
   ]
  },
  {
   "cell_type": "code",
   "execution_count": null,
   "metadata": {},
   "outputs": [],
   "source": [
    "# see above"
   ]
  },
  {
   "cell_type": "markdown",
   "metadata": {},
   "source": [
    "### For Loops"
   ]
  },
  {
   "cell_type": "code",
   "execution_count": 78,
   "metadata": {},
   "outputs": [
    {
     "name": "stdout",
     "output_type": "stream",
     "text": [
      "Ayo\n",
      "*\n",
      "J\n",
      "$\n",
      "*\n",
      "o\n",
      "$\n",
      "*\n",
      "e\n",
      "$\n",
      "*\n",
      " \n",
      "$\n",
      "*\n",
      "B\n",
      "$\n",
      "*\n",
      "i\n",
      "$\n",
      "*\n",
      "r\n",
      "$\n",
      "*\n",
      "e\n",
      "$\n",
      "*\n",
      "n\n",
      "$\n",
      "Take me out to dinner\n"
     ]
    }
   ],
   "source": [
    "# for [placeholder] in [iterable]\n",
    "name  = \"Joe Biren\"\n",
    "print(\"Ayo\")\n",
    "for letter in name: \n",
    "    print('*')\n",
    "    print(letter)\n",
    "    print('$')\n",
    "print(\"Take me out to dinner\")"
   ]
  },
  {
   "cell_type": "markdown",
   "metadata": {},
   "source": [
    "##### Using 'in' keyword"
   ]
  },
  {
   "cell_type": "code",
   "execution_count": null,
   "metadata": {},
   "outputs": [],
   "source": [
    "# see above\n",
    "my_list = [\"taco\", 123, 123.5,[3,4,5], {\"key\":\"value\"}]\n",
    "\n",
    "for thing in my_list:\n",
    "    print(thing)\n",
    "    print(type(thing))"
   ]
  },
  {
   "cell_type": "code",
   "execution_count": null,
   "metadata": {},
   "outputs": [],
   "source": [
    "my_list = [8,99, 201]\n",
    "for number in my_list:\n",
    "    print(number+2)\n"
   ]
  },
  {
   "cell_type": "code",
   "execution_count": 85,
   "metadata": {},
   "outputs": [
    {
     "name": "stdout",
     "output_type": "stream",
     "text": [
      "Perry\n"
     ]
    }
   ],
   "source": [
    "myclass = [\"Diana\", \"Gulfem\", \"Perry\", \"Caleb\"]\n",
    "                    # 0             #1              #2          #3\n",
    "                    #0              #-3            #-2      #-1\n",
    "print(myclass[2]) #first call the list name and THEN the numeral value from the list"
   ]
  },
  {
   "cell_type": "code",
   "execution_count": 86,
   "metadata": {},
   "outputs": [
    {
     "data": {
      "text/plain": [
       "4"
      ]
     },
     "execution_count": 86,
     "metadata": {},
     "output_type": "execute_result"
    }
   ],
   "source": [
    "len(myclass) #len = length of "
   ]
  },
  {
   "cell_type": "code",
   "execution_count": 87,
   "metadata": {},
   "outputs": [
    {
     "data": {
      "text/plain": [
       "[0, 1, 2, 3]"
      ]
     },
     "execution_count": 87,
     "metadata": {},
     "output_type": "execute_result"
    }
   ],
   "source": [
    "list(range(4))"
   ]
  },
  {
   "cell_type": "code",
   "execution_count": 95,
   "metadata": {},
   "outputs": [
    {
     "name": "stdout",
     "output_type": "stream",
     "text": [
      "0\n",
      "Diana\n",
      "1\n",
      "Gulfem\n",
      "2\n",
      "Perry\n",
      "3\n",
      "Caleb\n"
     ]
    }
   ],
   "source": [
    "#Access by Index\n",
    "\n",
    "for index in range (len(myclass)):\n",
    "    print(index)\n",
    "    print(myclass[index])"
   ]
  },
  {
   "cell_type": "code",
   "execution_count": null,
   "metadata": {},
   "outputs": [],
   "source": [
    "a,b =(1,2 )\n",
    "print(a)\n",
    "print(b)"
   ]
  },
  {
   "cell_type": "code",
   "execution_count": 96,
   "metadata": {},
   "outputs": [
    {
     "data": {
      "text/plain": [
       "[(0, 'Diana'), (1, 'Gulfem'), (2, 'Perry'), (3, 'Caleb')]"
      ]
     },
     "execution_count": 96,
     "metadata": {},
     "output_type": "execute_result"
    }
   ],
   "source": [
    "#use index and object at the same time\n",
    "list(enumerate(myclass))"
   ]
  },
  {
   "cell_type": "code",
   "execution_count": 100,
   "metadata": {},
   "outputs": [
    {
     "name": "stdout",
     "output_type": "stream",
     "text": [
      "Diana is at the index 0\n",
      "Gulfem is at the index 1\n",
      "Perry is at the index 2\n",
      "Caleb is at the index 3\n"
     ]
    }
   ],
   "source": [
    "for index, name in enumerate(myclass):\n",
    "    print(name, \"is at the index\", index)"
   ]
  },
  {
   "cell_type": "markdown",
   "metadata": {},
   "source": [
    "##### Continue Statement"
   ]
  },
  {
   "cell_type": "code",
   "execution_count": null,
   "metadata": {},
   "outputs": [],
   "source": [
    "# will continue to next iteration"
   ]
  },
  {
   "cell_type": "code",
   "execution_count": 116,
   "metadata": {},
   "outputs": [
    {
     "name": "stdout",
     "output_type": "stream",
     "text": [
      "Diana is not as cool as the others\n",
      "Gulfem is not as cool as the others\n",
      "Perry is not as cool as the others\n",
      "Caleb starts with C\n"
     ]
    }
   ],
   "source": [
    "for index, name in enumerate(myclass):\n",
    "        if name [0].lower() == \"c\":\n",
    "            print(name, \"starts with C\")\n",
    "            continue\n",
    "            print(\"The index for you is\", index) # with conitnue before this line, it becomes unreachable(dead code)\n",
    "        else: \n",
    "            print (f\"{name} is not as cool as the others\")"
   ]
  },
  {
   "cell_type": "markdown",
   "metadata": {},
   "source": [
    "##### Break Statement"
   ]
  },
  {
   "cell_type": "code",
   "execution_count": null,
   "metadata": {},
   "outputs": [],
   "source": [
    "# will break out of current loop"
   ]
  },
  {
   "cell_type": "code",
   "execution_count": 119,
   "metadata": {},
   "outputs": [
    {
     "name": "stdout",
     "output_type": "stream",
     "text": [
      "Connor starts with C\n"
     ]
    }
   ],
   "source": [
    "myclass= [\"Connor\", \"Caleb\",\"Perry\",\"Tony\", \"Lizzette\", \"Carol\"]\n",
    "\n",
    "for index, name in enumerate(myclass):\n",
    "        if name [0].lower() == \"c\":\n",
    "            print(name, \"starts with C\")\n",
    "            break #stops the rest of the code from continuing after break\n",
    "            print(\"The index for you is\", index) # with conitnue before this line, it becomes unreachable(dead code)\n",
    "        else: \n",
    "            print (f\"{name} is not as cool as the others\")"
   ]
  },
  {
   "cell_type": "markdown",
   "metadata": {},
   "source": [
    "##### Pass Statement"
   ]
  },
  {
   "cell_type": "code",
   "execution_count": null,
   "metadata": {},
   "outputs": [],
   "source": [
    "# mostly used as a placeholder, and will continue on same iteration"
   ]
  },
  {
   "cell_type": "code",
   "execution_count": 103,
   "metadata": {},
   "outputs": [
    {
     "name": "stdout",
     "output_type": "stream",
     "text": [
      "hello\n"
     ]
    }
   ],
   "source": [
    "if True:\n",
    "    pass\n",
    "print (\"hello\")"
   ]
  },
  {
   "cell_type": "markdown",
   "metadata": {},
   "source": [
    "##### Double For Loops"
   ]
  },
  {
   "cell_type": "code",
   "execution_count": 123,
   "metadata": {},
   "outputs": [
    {
     "name": "stdout",
     "output_type": "stream",
     "text": [
      "i=0  j=0 and total= 1\n",
      "i=0  j=1 and total= 2\n",
      "i=0  j=2 and total= 3\n",
      "i=0  j=3 and total= 4\n",
      "i=0  j=4 and total= 5\n",
      "i=1  j=0 and total= 6\n",
      "i=1  j=1 and total= 7\n",
      "i=1  j=2 and total= 8\n",
      "i=1  j=3 and total= 9\n",
      "i=1  j=4 and total= 10\n",
      "i=2  j=0 and total= 11\n",
      "i=2  j=1 and total= 12\n",
      "i=2  j=2 and total= 13\n",
      "i=2  j=3 and total= 14\n",
      "i=2  j=4 and total= 15\n",
      "i=3  j=0 and total= 16\n",
      "i=3  j=1 and total= 17\n",
      "i=3  j=2 and total= 18\n",
      "i=3  j=3 and total= 19\n",
      "i=3  j=4 and total= 20\n",
      "i=4  j=0 and total= 21\n",
      "i=4  j=1 and total= 22\n",
      "i=4  j=2 and total= 23\n",
      "i=4  j=3 and total= 24\n",
      "i=4  j=4 and total= 25\n"
     ]
    }
   ],
   "source": [
    "counter = 0 \n",
    "for i in range(5):\n",
    "\n",
    "    for j in range(5):\n",
    "        counter +=1\n",
    "        print(f'i={i}  j={j} and total= {counter}')"
   ]
  },
  {
   "cell_type": "markdown",
   "metadata": {},
   "source": [
    "### While Loops"
   ]
  },
  {
   "cell_type": "code",
   "execution_count": 125,
   "metadata": {},
   "outputs": [
    {
     "name": "stdout",
     "output_type": "stream",
     "text": [
      "1\n",
      "2\n",
      "3\n",
      "4\n",
      "5\n",
      "6\n",
      "7\n",
      "8\n",
      "9\n",
      "10\n"
     ]
    }
   ],
   "source": [
    "#while [boolean]\n",
    "    #code to do while true\n",
    "\n",
    "num = 0\n",
    "while num <10:\n",
    "    num += 1\n",
    "    print(num)"
   ]
  },
  {
   "cell_type": "markdown",
   "metadata": {},
   "source": [
    "##### Looping 'While True'"
   ]
  },
  {
   "cell_type": "code",
   "execution_count": null,
   "metadata": {},
   "outputs": [],
   "source": [
    "x = 0 \n",
    "while True:\n",
    "    print(\"Hello\")\n",
    "    x+=1\n",
    "    if x==5:\n",
    "        break"
   ]
  },
  {
   "cell_type": "code",
   "execution_count": null,
   "metadata": {},
   "outputs": [],
   "source": [
    "while True:\n",
    "    user_input = input(\"What do yo want to do? Quit or Continue? \")\n",
    "    if user_input.lower() == \"quit\":\n",
    "        break\n",
    "    elif user_input.lower() == \"continue\":\n",
    "        continue\n",
    "    print(\"That was not a choice\")\n",
    "print(\"Game over\")"
   ]
  },
  {
   "cell_type": "markdown",
   "metadata": {},
   "source": [
    "##### While & For Loops Used Together"
   ]
  },
  {
   "cell_type": "code",
   "execution_count": null,
   "metadata": {},
   "outputs": [],
   "source": [
    "num = 0\n",
    "total = 0\n",
    "\n",
    "while num<5:\n",
    "    print(\"While loop iteration\", run)\n",
    "    for i in range(5):\n",
    "        \n",
    "\n"
   ]
  },
  {
   "cell_type": "markdown",
   "metadata": {},
   "source": [
    "### Built-In Functions"
   ]
  },
  {
   "cell_type": "markdown",
   "metadata": {},
   "source": [
    "##### range()"
   ]
  },
  {
   "cell_type": "code",
   "execution_count": null,
   "metadata": {},
   "outputs": [],
   "source": []
  },
  {
   "cell_type": "markdown",
   "metadata": {},
   "source": [
    "##### dir()"
   ]
  },
  {
   "cell_type": "code",
   "execution_count": null,
   "metadata": {},
   "outputs": [],
   "source": []
  },
  {
   "cell_type": "markdown",
   "metadata": {},
   "source": [
    "##### help()"
   ]
  },
  {
   "cell_type": "code",
   "execution_count": null,
   "metadata": {},
   "outputs": [],
   "source": [
    "help(str)"
   ]
  },
  {
   "cell_type": "markdown",
   "metadata": {},
   "source": [
    "##### isinstance()"
   ]
  },
  {
   "cell_type": "code",
   "execution_count": 94,
   "metadata": {},
   "outputs": [
    {
     "data": {
      "text/plain": [
       "True"
      ]
     },
     "execution_count": 94,
     "metadata": {},
     "output_type": "execute_result"
    }
   ],
   "source": [
    "isinstance (\"cow\", str)"
   ]
  },
  {
   "cell_type": "code",
   "execution_count": 95,
   "metadata": {},
   "outputs": [
    {
     "data": {
      "text/plain": [
       "False"
      ]
     },
     "execution_count": 95,
     "metadata": {},
     "output_type": "execute_result"
    }
   ],
   "source": [
    "isinstance(\"cow\", int)"
   ]
  },
  {
   "cell_type": "markdown",
   "metadata": {},
   "source": [
    "##### abs()"
   ]
  },
  {
   "cell_type": "code",
   "execution_count": 17,
   "metadata": {},
   "outputs": [
    {
     "name": "stdout",
     "output_type": "stream",
     "text": [
      "5\n",
      "5\n"
     ]
    }
   ],
   "source": [
    "#absolute value\n",
    "print(abs(-5))\n",
    "print(abs(5))"
   ]
  },
  {
   "cell_type": "code",
   "execution_count": null,
   "metadata": {},
   "outputs": [],
   "source": [
    "! - bang, exclamation point\n",
    "# - pound sign, hash/hashtag, octothrope\n",
    "[] - brackets, square bracket\n",
    "() - parans, parathesis l/r paran\n",
    "{} - Braces, curly brackets , or Squiggles\n",
    "#! - shebang\n",
    "% - grapes, percen, mod\n",
    "@ - at symbol \n",
    "* = star, splat or asterick\n",
    "\n",
    "<> - angle brackets / greater than/less than ... Wakka /Wakka Wakka "
   ]
  },
  {
   "cell_type": "markdown",
   "metadata": {},
   "source": [
    "### Try and Except"
   ]
  },
  {
   "cell_type": "code",
   "execution_count": null,
   "metadata": {},
   "outputs": [],
   "source": [
    "3/0"
   ]
  },
  {
   "cell_type": "code",
   "execution_count": null,
   "metadata": {},
   "outputs": [],
   "source": [
    "int(\"Steve\")"
   ]
  },
  {
   "cell_type": "code",
   "execution_count": null,
   "metadata": {},
   "outputs": [],
   "source": [
    "try:\n",
    "    int(\"Steve\")\n",
    "except:\n",
    "    print(\"Can't Divide by 0\")\n",
    "finally:\n",
    "    print(\"Okay move along now\")"
   ]
  },
  {
   "cell_type": "markdown",
   "metadata": {},
   "source": [
    "### Lists"
   ]
  },
  {
   "cell_type": "markdown",
   "metadata": {},
   "source": [
    "##### Declaring Lists"
   ]
  },
  {
   "cell_type": "code",
   "execution_count": 70,
   "metadata": {},
   "outputs": [],
   "source": [
    "mylist = []\n",
    "names = [\"connor\", \"marco\", \"k rod \", \"perry\"]\n",
    "mylist = [\"string\", 123, 123, 56, [1,2,3]]\n",
    "\n"
   ]
  },
  {
   "cell_type": "markdown",
   "metadata": {},
   "source": [
    "##### Indexing a List"
   ]
  },
  {
   "cell_type": "code",
   "execution_count": 69,
   "metadata": {},
   "outputs": [
    {
     "name": "stdout",
     "output_type": "stream",
     "text": [
      "k rod\n",
      "k rod\n"
     ]
    }
   ],
   "source": [
    "names = [\"connor\", \"marco\", \"k rod\", \"perry\" ]\n",
    "print (names[2])\n",
    "print(names[-2])\n"
   ]
  },
  {
   "cell_type": "code",
   "execution_count": 76,
   "metadata": {},
   "outputs": [
    {
     "name": "stdout",
     "output_type": "stream",
     "text": [
      "2\n",
      "['a', 'b', 'c']\n",
      "4\n"
     ]
    },
    {
     "data": {
      "text/plain": [
       "'B'"
      ]
     },
     "execution_count": 76,
     "metadata": {},
     "output_type": "execute_result"
    }
   ],
   "source": [
    "a_list = [1,2,3, [\"a\",\"b\", \"c\"],4]\n",
    "print(a_list[1])\n",
    "print(a_list[3])\n",
    "print(a_list[4])\n",
    "\n",
    "a_list[3][1]\n",
    "a_list[3][1].title()"
   ]
  },
  {
   "cell_type": "code",
   "execution_count": 90,
   "metadata": {},
   "outputs": [
    {
     "data": {
      "text/plain": [
       "['connor', 'k rod', 'diana', 'dylan']"
      ]
     },
     "execution_count": 90,
     "metadata": {},
     "output_type": "execute_result"
    }
   ],
   "source": [
    "names = [\"connor\", \"marco\", \"k rod\", \"perry\", \"diana\", \"caleb\", \"dylan\"]\n",
    "                    #0              #1              #2          #3          #4          #5             #6\n",
    "names[0:3] #we go up BEFORE three\n",
    "names[2:5]\n",
    "names[2:5][::-1]\n",
    "names[4:1:-1]\n",
    "names[::2]\n"
   ]
  },
  {
   "cell_type": "markdown",
   "metadata": {},
   "source": [
    "##### .append()"
   ]
  },
  {
   "cell_type": "code",
   "execution_count": 91,
   "metadata": {},
   "outputs": [
    {
     "name": "stdout",
     "output_type": "stream",
     "text": [
      "['connor', 'marco', 'k rod', 'perry', 'diana', 'caleb', 'dylan', 'lizzette']\n"
     ]
    }
   ],
   "source": [
    "names = [\"connor\", \"marco\", \"k rod\", \"perry\", \"diana\", \"caleb\", \"dylan\"]\n",
    "                    #0              #1              #2          #3          #4          #5             #6\n",
    "names.append(\"lizzette\")\n",
    "print(names)"
   ]
  },
  {
   "cell_type": "markdown",
   "metadata": {},
   "source": [
    "##### .insert()"
   ]
  },
  {
   "cell_type": "code",
   "execution_count": 93,
   "metadata": {},
   "outputs": [
    {
     "name": "stdout",
     "output_type": "stream",
     "text": [
      "['connor', 'marco', 'k rod', 'lizzette', 'perry', 'diana', 'caleb', 'dylan']\n"
     ]
    }
   ],
   "source": [
    "names = [\"connor\", \"marco\", \"k rod\", \"perry\", \"diana\", \"caleb\", \"dylan\"]\n",
    "                    #0              #1              #2          #3          #4          #5             #6\n",
    "names.insert(3, 'lizzette')\n",
    "print(names)"
   ]
  },
  {
   "cell_type": "markdown",
   "metadata": {},
   "source": [
    "##### .pop()"
   ]
  },
  {
   "cell_type": "code",
   "execution_count": 99,
   "metadata": {},
   "outputs": [
    {
     "name": "stdout",
     "output_type": "stream",
     "text": [
      "['connor', 'k rod', 'perry', 'diana', 'caleb']\n"
     ]
    }
   ],
   "source": [
    "names = [\"connor\", \"marco\", \"k rod\", \"perry\", \"diana\", \"caleb\", \"dylan\"]\n",
    "                    #0              #1              #2          #3          #4          #5             #6\n",
    "#uses the numerical value\n",
    "names.pop() #default removes string at the end\n",
    "names.pop(1)\n",
    "print(names)\n"
   ]
  },
  {
   "cell_type": "markdown",
   "metadata": {},
   "source": [
    "\n",
    "##### .remove()"
   ]
  },
  {
   "cell_type": "code",
   "execution_count": 105,
   "metadata": {},
   "outputs": [
    {
     "name": "stdout",
     "output_type": "stream",
     "text": [
      "['connor', 'marco', 'k rod', 'perry', 'diana', 'caleb']\n"
     ]
    },
    {
     "data": {
      "text/plain": [
       "['connor', 'marco', 'k rod', 'perry', 'diana', 'caleb']"
      ]
     },
     "execution_count": 105,
     "metadata": {},
     "output_type": "execute_result"
    }
   ],
   "source": [
    "names = [\"connor\", \"marco\", \"k rod\", \"perry\", \"diana\", \"caleb\", \"dylan\"]\n",
    "                    #0              #1              #2          #3          #4          #5             #6\n",
    "#uses the alphabetic title\n",
    "\n",
    "names.remove(\"dylan\")\n",
    "print(names)\n",
    "\n",
    "while\"Perry\" in names:\n",
    "    names.remove(\"Perry\")\n",
    "names"
   ]
  },
  {
   "cell_type": "markdown",
   "metadata": {},
   "source": [
    "##### del()"
   ]
  },
  {
   "cell_type": "code",
   "execution_count": 110,
   "metadata": {},
   "outputs": [
    {
     "data": {
      "text/plain": [
       "['connor', 'marco', 'k rod', 'perry', 'diana', 'dylan']"
      ]
     },
     "execution_count": 110,
     "metadata": {},
     "output_type": "execute_result"
    }
   ],
   "source": [
    "names = [\"connor\", \"marco\", \"k rod\", \"perry\", \"diana\", \"caleb\", \"dylan\"]\n",
    "                    #0              #1              #2          #3          #4          #5             #6\n",
    "del names [5]\n",
    "\n",
    "names\n",
    "\n",
    "#DO NOT USE DEL IN WHILE LOOP"
   ]
  },
  {
   "cell_type": "markdown",
   "metadata": {},
   "source": [
    "##### Concatenating Two Lists"
   ]
  },
  {
   "cell_type": "code",
   "execution_count": 111,
   "metadata": {},
   "outputs": [
    {
     "name": "stdout",
     "output_type": "stream",
     "text": [
      "[1, 2, 3, 4, 5, 6]\n"
     ]
    }
   ],
   "source": [
    "l1 = [1,2,3]\n",
    "l2= [4,5,6]\n",
    "\n",
    "l3= l1+l2\n",
    "print(l3)"
   ]
  },
  {
   "cell_type": "code",
   "execution_count": 112,
   "metadata": {},
   "outputs": [
    {
     "data": {
      "text/plain": [
       "[4, 5, 6, 1, 2, 3]"
      ]
     },
     "execution_count": 112,
     "metadata": {},
     "output_type": "execute_result"
    }
   ],
   "source": [
    "l2.extend(l1)\n",
    "l2"
   ]
  },
  {
   "cell_type": "markdown",
   "metadata": {},
   "source": [
    "##### Lists Within Lists"
   ]
  },
  {
   "cell_type": "code",
   "execution_count": null,
   "metadata": {},
   "outputs": [],
   "source": []
  },
  {
   "cell_type": "markdown",
   "metadata": {},
   "source": [
    "##### Looping Through Lists"
   ]
  },
  {
   "cell_type": "code",
   "execution_count": null,
   "metadata": {},
   "outputs": [],
   "source": []
  },
  {
   "cell_type": "markdown",
   "metadata": {},
   "source": [
    "## Exercise #1 <br>\n",
    "<p>Cube Number Test... Print out all cubed numbers up to the total value 1000. Meaning that if the cubed number is over 1000 break the loop.</p>"
   ]
  },
  {
   "cell_type": "code",
   "execution_count": 37,
   "metadata": {},
   "outputs": [
    {
     "name": "stdout",
     "output_type": "stream",
     "text": [
      "So you chose death.\n"
     ]
    }
   ],
   "source": [
    "#first we want a number from input DONE\n",
    "#then we want to cube this number (**3) DONE\n",
    "#after we want to make sure our cubed values end at 1000 range of cubes[0-1000]\n",
    "#print the values within range\n",
    "\n",
    "\n",
    "num= input(\"Input an integer whose cube does not exceed 1000\")\n",
    "new_num = int(num)**3\n",
    "#print(new_num)\n",
    "\n",
    "if int(new_num) in range (0,1001):\n",
    "    print(f\"You'll be receiving {new_num} moneys\")\n",
    "else:\n",
    "    print(\"So you chose death.\")\n",
    "\n",
    "\n",
    "\n",
    "\n",
    "\n"
   ]
  },
  {
   "cell_type": "markdown",
   "metadata": {},
   "source": [
    "## Exercise #2 <br>\n",
    "<p>Get first prime numbers up to 100</p>"
   ]
  },
  {
   "cell_type": "code",
   "execution_count": 1,
   "metadata": {},
   "outputs": [
    {
     "name": "stdout",
     "output_type": "stream",
     "text": [
      "1\n",
      "2\n",
      "3\n",
      "5\n",
      "7\n",
      "11\n",
      "13\n",
      "17\n",
      "19\n",
      "23\n",
      "29\n",
      "31\n",
      "37\n",
      "41\n",
      "43\n",
      "47\n",
      "53\n",
      "59\n",
      "61\n",
      "67\n",
      "71\n",
      "73\n",
      "79\n",
      "83\n",
      "89\n",
      "97\n"
     ]
    }
   ],
   "source": [
    "# HINT::\n",
    "# An else after an if runs if the if didn’t\n",
    "# An else after a for runs if the for didn’t break\n",
    "#first we need to catalouge 1-100\n",
    "#retrieve any number from our range\n",
    "#then we filter the numbers in this list that are prime numbers \n",
    "#print\n",
    "\n",
    "\n",
    "for i in range(1,100):\n",
    "    if i == 2 or i == 3 or i == 5 or i == 7:\n",
    "        print(i)\n",
    "    else:\n",
    "        if i % 2 == 0 or i % 3 == 0 or i % 5 == 0 or i % 7 == 0:\n",
    "            continue\n",
    "        else:\n",
    "            print(i)\n",
    "\n",
    "\n"
   ]
  },
  {
   "cell_type": "markdown",
   "metadata": {},
   "source": [
    "# Exercise 3 <br>\n",
    "<p>Take in a users input for their age, if they are younger than 18 print kids, if they're 18 to 65 print adults, else print seniors</p>"
   ]
  },
  {
   "cell_type": "code",
   "execution_count": null,
   "metadata": {},
   "outputs": [],
   "source": [
    "age = input(\"Enter your age\")\n",
    "if int(age) <18:\n",
    "    print(\"rascal\")\n",
    "elif int(age)<66 and int(age)>17:\n",
    "     print(\"grown\")\n",
    "else:\n",
    "   print(\"Ha ha\")"
   ]
  }
 ],
 "metadata": {
  "kernelspec": {
   "display_name": "Python 3.10.6 64-bit",
   "language": "python",
   "name": "python3"
  },
  "language_info": {
   "codemirror_mode": {
    "name": "ipython",
    "version": 3
   },
   "file_extension": ".py",
   "mimetype": "text/x-python",
   "name": "python",
   "nbconvert_exporter": "python",
   "pygments_lexer": "ipython3",
   "version": "3.10.6"
  },
  "vscode": {
   "interpreter": {
    "hash": "ef53756625b024b1b1790da67acc1f2baf042488667a7862e4ec0faaa95a916f"
   }
  }
 },
 "nbformat": 4,
 "nbformat_minor": 2
}
